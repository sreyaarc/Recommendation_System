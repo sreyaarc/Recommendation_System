{
 "cells": [
  {
   "cell_type": "code",
   "execution_count": 1,
   "metadata": {
    "id": "S1FOigR6u48J"
   },
   "outputs": [],
   "source": [
    "import numpy as np\n",
    "import pandas as pd\n",
    "\n",
    "import warnings\n",
    "warnings.filterwarnings(\"ignore\")"
   ]
  },
  {
   "cell_type": "code",
   "execution_count": 2,
   "metadata": {
    "colab": {
     "base_uri": "https://localhost:8080/",
     "height": 337
    },
    "id": "1oLynaPcu9PD",
    "outputId": "c65b443b-eff9-4f5b-82c3-075a9982bc4e"
   },
   "outputs": [
    {
     "data": {
      "text/html": [
       "<div>\n",
       "<style scoped>\n",
       "    .dataframe tbody tr th:only-of-type {\n",
       "        vertical-align: middle;\n",
       "    }\n",
       "\n",
       "    .dataframe tbody tr th {\n",
       "        vertical-align: top;\n",
       "    }\n",
       "\n",
       "    .dataframe thead th {\n",
       "        text-align: right;\n",
       "    }\n",
       "</style>\n",
       "<table border=\"1\" class=\"dataframe\">\n",
       "  <thead>\n",
       "    <tr style=\"text-align: right;\">\n",
       "      <th></th>\n",
       "      <th>course_id</th>\n",
       "      <th>course_title</th>\n",
       "      <th>url</th>\n",
       "      <th>is_paid</th>\n",
       "      <th>price</th>\n",
       "      <th>num_subscribers</th>\n",
       "      <th>num_reviews</th>\n",
       "      <th>num_lectures</th>\n",
       "      <th>level</th>\n",
       "      <th>content_duration</th>\n",
       "      <th>published_timestamp</th>\n",
       "      <th>subject</th>\n",
       "    </tr>\n",
       "  </thead>\n",
       "  <tbody>\n",
       "    <tr>\n",
       "      <th>0</th>\n",
       "      <td>1070968</td>\n",
       "      <td>Ultimate Investment Banking Course</td>\n",
       "      <td>https://www.udemy.com/ultimate-investment-bank...</td>\n",
       "      <td>True</td>\n",
       "      <td>200</td>\n",
       "      <td>2147</td>\n",
       "      <td>23</td>\n",
       "      <td>51</td>\n",
       "      <td>All Levels</td>\n",
       "      <td>1.5</td>\n",
       "      <td>2017-01-18T20:58:58Z</td>\n",
       "      <td>Business Finance</td>\n",
       "    </tr>\n",
       "    <tr>\n",
       "      <th>1</th>\n",
       "      <td>1113822</td>\n",
       "      <td>Complete GST Course &amp; Certification - Grow You...</td>\n",
       "      <td>https://www.udemy.com/goods-and-services-tax/</td>\n",
       "      <td>True</td>\n",
       "      <td>75</td>\n",
       "      <td>2792</td>\n",
       "      <td>923</td>\n",
       "      <td>274</td>\n",
       "      <td>All Levels</td>\n",
       "      <td>39.0</td>\n",
       "      <td>2017-03-09T16:34:20Z</td>\n",
       "      <td>Business Finance</td>\n",
       "    </tr>\n",
       "    <tr>\n",
       "      <th>2</th>\n",
       "      <td>1006314</td>\n",
       "      <td>Financial Modeling for Business Analysts and C...</td>\n",
       "      <td>https://www.udemy.com/financial-modeling-for-b...</td>\n",
       "      <td>True</td>\n",
       "      <td>45</td>\n",
       "      <td>2174</td>\n",
       "      <td>74</td>\n",
       "      <td>51</td>\n",
       "      <td>Intermediate Level</td>\n",
       "      <td>2.5</td>\n",
       "      <td>2016-12-19T19:26:30Z</td>\n",
       "      <td>Business Finance</td>\n",
       "    </tr>\n",
       "  </tbody>\n",
       "</table>\n",
       "</div>"
      ],
      "text/plain": [
       "   course_id                                       course_title  \\\n",
       "0    1070968                 Ultimate Investment Banking Course   \n",
       "1    1113822  Complete GST Course & Certification - Grow You...   \n",
       "2    1006314  Financial Modeling for Business Analysts and C...   \n",
       "\n",
       "                                                 url  is_paid  price  \\\n",
       "0  https://www.udemy.com/ultimate-investment-bank...     True    200   \n",
       "1      https://www.udemy.com/goods-and-services-tax/     True     75   \n",
       "2  https://www.udemy.com/financial-modeling-for-b...     True     45   \n",
       "\n",
       "   num_subscribers  num_reviews  num_lectures               level  \\\n",
       "0             2147           23            51          All Levels   \n",
       "1             2792          923           274          All Levels   \n",
       "2             2174           74            51  Intermediate Level   \n",
       "\n",
       "   content_duration   published_timestamp           subject  \n",
       "0               1.5  2017-01-18T20:58:58Z  Business Finance  \n",
       "1              39.0  2017-03-09T16:34:20Z  Business Finance  \n",
       "2               2.5  2016-12-19T19:26:30Z  Business Finance  "
      ]
     },
     "execution_count": 2,
     "metadata": {},
     "output_type": "execute_result"
    }
   ],
   "source": [
    "df = pd.read_csv(\"udemy_courses.csv\")\n",
    "df.head(3)"
   ]
  },
  {
   "cell_type": "code",
   "execution_count": 3,
   "metadata": {
    "colab": {
     "base_uri": "https://localhost:8080/"
    },
    "id": "d2VmBdJEwXd3",
    "outputId": "38078476-d5c6-4ea4-cfa2-ae35638af6fb"
   },
   "outputs": [
    {
     "data": {
      "text/plain": [
       "(3678, 12)"
      ]
     },
     "execution_count": 3,
     "metadata": {},
     "output_type": "execute_result"
    }
   ],
   "source": [
    "df.shape"
   ]
  },
  {
   "cell_type": "code",
   "execution_count": 4,
   "metadata": {
    "colab": {
     "base_uri": "https://localhost:8080/"
    },
    "id": "DMmSmc-Ru9R2",
    "outputId": "617fd085-a0ae-42cb-bf34-54329daed840"
   },
   "outputs": [
    {
     "name": "stdout",
     "output_type": "stream",
     "text": [
      "<class 'pandas.core.frame.DataFrame'>\n",
      "RangeIndex: 3678 entries, 0 to 3677\n",
      "Data columns (total 12 columns):\n",
      " #   Column               Non-Null Count  Dtype  \n",
      "---  ------               --------------  -----  \n",
      " 0   course_id            3678 non-null   int64  \n",
      " 1   course_title         3678 non-null   object \n",
      " 2   url                  3678 non-null   object \n",
      " 3   is_paid              3678 non-null   bool   \n",
      " 4   price                3678 non-null   int64  \n",
      " 5   num_subscribers      3678 non-null   int64  \n",
      " 6   num_reviews          3678 non-null   int64  \n",
      " 7   num_lectures         3678 non-null   int64  \n",
      " 8   level                3678 non-null   object \n",
      " 9   content_duration     3678 non-null   float64\n",
      " 10  published_timestamp  3678 non-null   object \n",
      " 11  subject              3678 non-null   object \n",
      "dtypes: bool(1), float64(1), int64(5), object(5)\n",
      "memory usage: 319.8+ KB\n"
     ]
    }
   ],
   "source": [
    "df.info()"
   ]
  },
  {
   "cell_type": "code",
   "execution_count": 5,
   "metadata": {
    "colab": {
     "base_uri": "https://localhost:8080/"
    },
    "id": "sRM8noBCwXVB",
    "outputId": "1efc5d26-2e55-4ee5-d589-6af9d2a126b5"
   },
   "outputs": [
    {
     "data": {
      "text/plain": [
       "course_id              0\n",
       "course_title           0\n",
       "url                    0\n",
       "is_paid                0\n",
       "price                  0\n",
       "num_subscribers        0\n",
       "num_reviews            0\n",
       "num_lectures           0\n",
       "level                  0\n",
       "content_duration       0\n",
       "published_timestamp    0\n",
       "subject                0\n",
       "dtype: int64"
      ]
     },
     "execution_count": 5,
     "metadata": {},
     "output_type": "execute_result"
    }
   ],
   "source": [
    "# checking null values\n",
    "df.isna().sum()"
   ]
  },
  {
   "cell_type": "code",
   "execution_count": 6,
   "metadata": {
    "colab": {
     "base_uri": "https://localhost:8080/"
    },
    "id": "H5lW5TC5wXZN",
    "outputId": "0321d4c4-e80e-4d9e-f0b0-2817ddf47582"
   },
   "outputs": [
    {
     "data": {
      "text/plain": [
       "6"
      ]
     },
     "execution_count": 6,
     "metadata": {},
     "output_type": "execute_result"
    }
   ],
   "source": [
    "df.duplicated().sum()"
   ]
  },
  {
   "cell_type": "code",
   "execution_count": 7,
   "metadata": {
    "colab": {
     "base_uri": "https://localhost:8080/",
     "height": 501
    },
    "id": "k9HCoRgbwfT7",
    "outputId": "e4168d1b-e3f9-4bdb-f387-421864b04207"
   },
   "outputs": [
    {
     "data": {
      "text/html": [
       "<div>\n",
       "<style scoped>\n",
       "    .dataframe tbody tr th:only-of-type {\n",
       "        vertical-align: middle;\n",
       "    }\n",
       "\n",
       "    .dataframe tbody tr th {\n",
       "        vertical-align: top;\n",
       "    }\n",
       "\n",
       "    .dataframe thead th {\n",
       "        text-align: right;\n",
       "    }\n",
       "</style>\n",
       "<table border=\"1\" class=\"dataframe\">\n",
       "  <thead>\n",
       "    <tr style=\"text-align: right;\">\n",
       "      <th></th>\n",
       "      <th>course_id</th>\n",
       "      <th>course_title</th>\n",
       "      <th>url</th>\n",
       "      <th>is_paid</th>\n",
       "      <th>price</th>\n",
       "      <th>num_subscribers</th>\n",
       "      <th>num_reviews</th>\n",
       "      <th>num_lectures</th>\n",
       "      <th>level</th>\n",
       "      <th>content_duration</th>\n",
       "      <th>published_timestamp</th>\n",
       "      <th>subject</th>\n",
       "    </tr>\n",
       "  </thead>\n",
       "  <tbody>\n",
       "    <tr>\n",
       "      <th>787</th>\n",
       "      <td>837322</td>\n",
       "      <td>Essentials of money value: Get a financial Life !</td>\n",
       "      <td>https://www.udemy.com/essentials-of-money-value/</td>\n",
       "      <td>True</td>\n",
       "      <td>20</td>\n",
       "      <td>0</td>\n",
       "      <td>0</td>\n",
       "      <td>20</td>\n",
       "      <td>All Levels</td>\n",
       "      <td>0.616667</td>\n",
       "      <td>2016-05-16T18:28:30Z</td>\n",
       "      <td>Business Finance</td>\n",
       "    </tr>\n",
       "    <tr>\n",
       "      <th>788</th>\n",
       "      <td>1157298</td>\n",
       "      <td>Introduction to Forex Trading Business For Beg...</td>\n",
       "      <td>https://www.udemy.com/introduction-to-forex-tr...</td>\n",
       "      <td>True</td>\n",
       "      <td>20</td>\n",
       "      <td>0</td>\n",
       "      <td>0</td>\n",
       "      <td>27</td>\n",
       "      <td>Beginner Level</td>\n",
       "      <td>1.500000</td>\n",
       "      <td>2017-04-23T16:19:01Z</td>\n",
       "      <td>Business Finance</td>\n",
       "    </tr>\n",
       "    <tr>\n",
       "      <th>894</th>\n",
       "      <td>1035638</td>\n",
       "      <td>Understanding Financial Statements</td>\n",
       "      <td>https://www.udemy.com/understanding-financial-...</td>\n",
       "      <td>True</td>\n",
       "      <td>25</td>\n",
       "      <td>0</td>\n",
       "      <td>0</td>\n",
       "      <td>10</td>\n",
       "      <td>All Levels</td>\n",
       "      <td>1.000000</td>\n",
       "      <td>2016-12-15T14:56:17Z</td>\n",
       "      <td>Business Finance</td>\n",
       "    </tr>\n",
       "    <tr>\n",
       "      <th>1100</th>\n",
       "      <td>1084454</td>\n",
       "      <td>CFA Level 2- Quantitative Methods</td>\n",
       "      <td>https://www.udemy.com/cfa-level-2-quantitative...</td>\n",
       "      <td>True</td>\n",
       "      <td>40</td>\n",
       "      <td>0</td>\n",
       "      <td>0</td>\n",
       "      <td>35</td>\n",
       "      <td>All Levels</td>\n",
       "      <td>5.500000</td>\n",
       "      <td>2017-07-02T14:29:35Z</td>\n",
       "      <td>Business Finance</td>\n",
       "    </tr>\n",
       "    <tr>\n",
       "      <th>1473</th>\n",
       "      <td>185526</td>\n",
       "      <td>MicroStation - Células</td>\n",
       "      <td>https://www.udemy.com/microstation-celulas/</td>\n",
       "      <td>True</td>\n",
       "      <td>20</td>\n",
       "      <td>0</td>\n",
       "      <td>0</td>\n",
       "      <td>9</td>\n",
       "      <td>Beginner Level</td>\n",
       "      <td>0.616667</td>\n",
       "      <td>2014-04-15T21:48:55Z</td>\n",
       "      <td>Graphic Design</td>\n",
       "    </tr>\n",
       "    <tr>\n",
       "      <th>2561</th>\n",
       "      <td>28295</td>\n",
       "      <td>Learn Web Designing &amp; HTML5/CSS3 Essentials in...</td>\n",
       "      <td>https://www.udemy.com/build-beautiful-html5-we...</td>\n",
       "      <td>True</td>\n",
       "      <td>75</td>\n",
       "      <td>43285</td>\n",
       "      <td>525</td>\n",
       "      <td>24</td>\n",
       "      <td>All Levels</td>\n",
       "      <td>4.000000</td>\n",
       "      <td>2013-01-03T00:55:31Z</td>\n",
       "      <td>Web Development</td>\n",
       "    </tr>\n",
       "  </tbody>\n",
       "</table>\n",
       "</div>"
      ],
      "text/plain": [
       "      course_id                                       course_title  \\\n",
       "787      837322  Essentials of money value: Get a financial Life !   \n",
       "788     1157298  Introduction to Forex Trading Business For Beg...   \n",
       "894     1035638                 Understanding Financial Statements   \n",
       "1100    1084454                  CFA Level 2- Quantitative Methods   \n",
       "1473     185526                             MicroStation - Células   \n",
       "2561      28295  Learn Web Designing & HTML5/CSS3 Essentials in...   \n",
       "\n",
       "                                                    url  is_paid  price  \\\n",
       "787    https://www.udemy.com/essentials-of-money-value/     True     20   \n",
       "788   https://www.udemy.com/introduction-to-forex-tr...     True     20   \n",
       "894   https://www.udemy.com/understanding-financial-...     True     25   \n",
       "1100  https://www.udemy.com/cfa-level-2-quantitative...     True     40   \n",
       "1473        https://www.udemy.com/microstation-celulas/     True     20   \n",
       "2561  https://www.udemy.com/build-beautiful-html5-we...     True     75   \n",
       "\n",
       "      num_subscribers  num_reviews  num_lectures           level  \\\n",
       "787                 0            0            20      All Levels   \n",
       "788                 0            0            27  Beginner Level   \n",
       "894                 0            0            10      All Levels   \n",
       "1100                0            0            35      All Levels   \n",
       "1473                0            0             9  Beginner Level   \n",
       "2561            43285          525            24      All Levels   \n",
       "\n",
       "      content_duration   published_timestamp           subject  \n",
       "787           0.616667  2016-05-16T18:28:30Z  Business Finance  \n",
       "788           1.500000  2017-04-23T16:19:01Z  Business Finance  \n",
       "894           1.000000  2016-12-15T14:56:17Z  Business Finance  \n",
       "1100          5.500000  2017-07-02T14:29:35Z  Business Finance  \n",
       "1473          0.616667  2014-04-15T21:48:55Z    Graphic Design  \n",
       "2561          4.000000  2013-01-03T00:55:31Z   Web Development  "
      ]
     },
     "execution_count": 7,
     "metadata": {},
     "output_type": "execute_result"
    }
   ],
   "source": [
    "df[df.duplicated()]"
   ]
  },
  {
   "cell_type": "code",
   "execution_count": 8,
   "metadata": {
    "id": "2iHFwMsawfZc"
   },
   "outputs": [],
   "source": [
    "df = df.drop_duplicates(keep=\"first\")"
   ]
  },
  {
   "cell_type": "code",
   "execution_count": 9,
   "metadata": {
    "colab": {
     "base_uri": "https://localhost:8080/"
    },
    "id": "fsRSG6L8u9Wt",
    "outputId": "44f88a88-e434-4806-a3ba-c665598d7e9a"
   },
   "outputs": [
    {
     "data": {
      "text/plain": [
       "0"
      ]
     },
     "execution_count": 9,
     "metadata": {},
     "output_type": "execute_result"
    }
   ],
   "source": [
    "df.duplicated().sum()"
   ]
  },
  {
   "cell_type": "markdown",
   "metadata": {
    "id": "lgTN1DxDyGTp"
   },
   "source": [
    "Popularity based recommendation system\n"
   ]
  },
  {
   "cell_type": "code",
   "execution_count": 10,
   "metadata": {
    "id": "u7iY-7Egu9aO"
   },
   "outputs": [],
   "source": [
    "def pop_remmdtn(df):\n",
    "  # calculating popularity score for each course\n",
    "  df[\"pop_score\"] = 0.6*df['num_subscribers'] + 0.4*df[\"num_reviews\"]\n",
    "  # sorting based on pop_score\n",
    "  df_sorted = df.sort_values(by=\"pop_score\", ascending=False)\n",
    "  return df_sorted[[\"course_title\", \"pop_score\"]].reset_index()"
   ]
  },
  {
   "cell_type": "code",
   "execution_count": 11,
   "metadata": {
    "colab": {
     "base_uri": "https://localhost:8080/",
     "height": 143
    },
    "id": "FxgFlvcZxqV7",
    "outputId": "6fe31cd7-21c8-4e7c-80a6-a6f2f980ed07"
   },
   "outputs": [
    {
     "data": {
      "text/html": [
       "<div>\n",
       "<style scoped>\n",
       "    .dataframe tbody tr th:only-of-type {\n",
       "        vertical-align: middle;\n",
       "    }\n",
       "\n",
       "    .dataframe tbody tr th {\n",
       "        vertical-align: top;\n",
       "    }\n",
       "\n",
       "    .dataframe thead th {\n",
       "        text-align: right;\n",
       "    }\n",
       "</style>\n",
       "<table border=\"1\" class=\"dataframe\">\n",
       "  <thead>\n",
       "    <tr style=\"text-align: right;\">\n",
       "      <th></th>\n",
       "      <th>index</th>\n",
       "      <th>course_title</th>\n",
       "      <th>pop_score</th>\n",
       "    </tr>\n",
       "  </thead>\n",
       "  <tbody>\n",
       "    <tr>\n",
       "      <th>0</th>\n",
       "      <td>2827</td>\n",
       "      <td>Learn HTML5 Programming From Scratch</td>\n",
       "      <td>164805.4</td>\n",
       "    </tr>\n",
       "    <tr>\n",
       "      <th>1</th>\n",
       "      <td>3032</td>\n",
       "      <td>Coding for Entrepreneurs Basic</td>\n",
       "      <td>96729.0</td>\n",
       "    </tr>\n",
       "    <tr>\n",
       "      <th>2</th>\n",
       "      <td>3230</td>\n",
       "      <td>The Web Developer Bootcamp</td>\n",
       "      <td>83928.4</td>\n",
       "    </tr>\n",
       "  </tbody>\n",
       "</table>\n",
       "</div>"
      ],
      "text/plain": [
       "   index                          course_title  pop_score\n",
       "0   2827  Learn HTML5 Programming From Scratch   164805.4\n",
       "1   3032        Coding for Entrepreneurs Basic    96729.0\n",
       "2   3230            The Web Developer Bootcamp    83928.4"
      ]
     },
     "execution_count": 11,
     "metadata": {},
     "output_type": "execute_result"
    }
   ],
   "source": [
    "pop_remmdtn(df).head(3)"
   ]
  },
  {
   "cell_type": "markdown",
   "metadata": {
    "id": "M1csITfBEBNn"
   },
   "source": [
    "Content Based Recommendation System\n"
   ]
  },
  {
   "cell_type": "code",
   "execution_count": 12,
   "metadata": {
    "id": "yIYQGESCxqYa"
   },
   "outputs": [],
   "source": [
    "# recommendation based on past history"
   ]
  },
  {
   "cell_type": "code",
   "execution_count": 13,
   "metadata": {
    "colab": {
     "base_uri": "https://localhost:8080/",
     "height": 337
    },
    "id": "lCa2_3KVxqdH",
    "outputId": "56a6750e-6075-403b-d90d-7fe50bcb4532"
   },
   "outputs": [
    {
     "data": {
      "text/html": [
       "<div>\n",
       "<style scoped>\n",
       "    .dataframe tbody tr th:only-of-type {\n",
       "        vertical-align: middle;\n",
       "    }\n",
       "\n",
       "    .dataframe tbody tr th {\n",
       "        vertical-align: top;\n",
       "    }\n",
       "\n",
       "    .dataframe thead th {\n",
       "        text-align: right;\n",
       "    }\n",
       "</style>\n",
       "<table border=\"1\" class=\"dataframe\">\n",
       "  <thead>\n",
       "    <tr style=\"text-align: right;\">\n",
       "      <th></th>\n",
       "      <th>course_id</th>\n",
       "      <th>course_title</th>\n",
       "      <th>url</th>\n",
       "      <th>is_paid</th>\n",
       "      <th>price</th>\n",
       "      <th>num_subscribers</th>\n",
       "      <th>num_reviews</th>\n",
       "      <th>num_lectures</th>\n",
       "      <th>level</th>\n",
       "      <th>content_duration</th>\n",
       "      <th>published_timestamp</th>\n",
       "      <th>subject</th>\n",
       "      <th>pop_score</th>\n",
       "    </tr>\n",
       "  </thead>\n",
       "  <tbody>\n",
       "    <tr>\n",
       "      <th>0</th>\n",
       "      <td>1070968</td>\n",
       "      <td>Ultimate Investment Banking Course</td>\n",
       "      <td>https://www.udemy.com/ultimate-investment-bank...</td>\n",
       "      <td>True</td>\n",
       "      <td>200</td>\n",
       "      <td>2147</td>\n",
       "      <td>23</td>\n",
       "      <td>51</td>\n",
       "      <td>All Levels</td>\n",
       "      <td>1.5</td>\n",
       "      <td>2017-01-18T20:58:58Z</td>\n",
       "      <td>Business Finance</td>\n",
       "      <td>1297.4</td>\n",
       "    </tr>\n",
       "    <tr>\n",
       "      <th>1</th>\n",
       "      <td>1113822</td>\n",
       "      <td>Complete GST Course &amp; Certification - Grow You...</td>\n",
       "      <td>https://www.udemy.com/goods-and-services-tax/</td>\n",
       "      <td>True</td>\n",
       "      <td>75</td>\n",
       "      <td>2792</td>\n",
       "      <td>923</td>\n",
       "      <td>274</td>\n",
       "      <td>All Levels</td>\n",
       "      <td>39.0</td>\n",
       "      <td>2017-03-09T16:34:20Z</td>\n",
       "      <td>Business Finance</td>\n",
       "      <td>2044.4</td>\n",
       "    </tr>\n",
       "    <tr>\n",
       "      <th>2</th>\n",
       "      <td>1006314</td>\n",
       "      <td>Financial Modeling for Business Analysts and C...</td>\n",
       "      <td>https://www.udemy.com/financial-modeling-for-b...</td>\n",
       "      <td>True</td>\n",
       "      <td>45</td>\n",
       "      <td>2174</td>\n",
       "      <td>74</td>\n",
       "      <td>51</td>\n",
       "      <td>Intermediate Level</td>\n",
       "      <td>2.5</td>\n",
       "      <td>2016-12-19T19:26:30Z</td>\n",
       "      <td>Business Finance</td>\n",
       "      <td>1334.0</td>\n",
       "    </tr>\n",
       "  </tbody>\n",
       "</table>\n",
       "</div>"
      ],
      "text/plain": [
       "   course_id                                       course_title  \\\n",
       "0    1070968                 Ultimate Investment Banking Course   \n",
       "1    1113822  Complete GST Course & Certification - Grow You...   \n",
       "2    1006314  Financial Modeling for Business Analysts and C...   \n",
       "\n",
       "                                                 url  is_paid  price  \\\n",
       "0  https://www.udemy.com/ultimate-investment-bank...     True    200   \n",
       "1      https://www.udemy.com/goods-and-services-tax/     True     75   \n",
       "2  https://www.udemy.com/financial-modeling-for-b...     True     45   \n",
       "\n",
       "   num_subscribers  num_reviews  num_lectures               level  \\\n",
       "0             2147           23            51          All Levels   \n",
       "1             2792          923           274          All Levels   \n",
       "2             2174           74            51  Intermediate Level   \n",
       "\n",
       "   content_duration   published_timestamp           subject  pop_score  \n",
       "0               1.5  2017-01-18T20:58:58Z  Business Finance     1297.4  \n",
       "1              39.0  2017-03-09T16:34:20Z  Business Finance     2044.4  \n",
       "2               2.5  2016-12-19T19:26:30Z  Business Finance     1334.0  "
      ]
     },
     "execution_count": 13,
     "metadata": {},
     "output_type": "execute_result"
    }
   ],
   "source": [
    "df.head(3)"
   ]
  },
  {
   "cell_type": "code",
   "execution_count": 14,
   "metadata": {
    "colab": {
     "base_uri": "https://localhost:8080/"
    },
    "id": "VkKpsSH_EKWS",
    "outputId": "c27a1f38-4ff4-4b92-e728-63975f522c02"
   },
   "outputs": [],
   "source": [
    "# using the course title for the recommendation\n",
    "# removing stop words(articles, prepositions, etc) as well as special characters as they dont contribute meaningful information to the text\n",
    "# !pip install neattext    # a simple NLP package for cleaning text"
   ]
  },
  {
   "cell_type": "code",
   "execution_count": 15,
   "metadata": {
    "id": "npbXWUbQENP-"
   },
   "outputs": [],
   "source": [
    "import neattext.functions as nfx"
   ]
  },
  {
   "cell_type": "code",
   "execution_count": 16,
   "metadata": {
    "colab": {
     "base_uri": "https://localhost:8080/"
    },
    "id": "5oDzgYQTxqgM",
    "outputId": "c31806e0-c205-4095-f62e-5e1f90318ea0"
   },
   "outputs": [
    {
     "data": {
      "text/plain": [
       "0                      Ultimate Investment Banking Course\n",
       "1       Complete GST Course & Certification - Grow You...\n",
       "2       Financial Modeling for Business Analysts and C...\n",
       "3       Beginner to Pro - Financial Analysis in Excel ...\n",
       "4            How To Maximize Your Profits Trading Options\n",
       "                              ...                        \n",
       "3673    Learn jQuery from Scratch - Master of JavaScri...\n",
       "3674    How To Design A WordPress Website With No Codi...\n",
       "3675                        Learn and Build using Polymer\n",
       "3676    CSS Animations: Create Amazing Effects on Your...\n",
       "3677    Using MODX CMS to Build Websites: A Beginner's...\n",
       "Name: course_title, Length: 3672, dtype: object"
      ]
     },
     "execution_count": 16,
     "metadata": {},
     "output_type": "execute_result"
    }
   ],
   "source": [
    "df[\"course_title\"]"
   ]
  },
  {
   "cell_type": "code",
   "execution_count": 17,
   "metadata": {
    "colab": {
     "base_uri": "https://localhost:8080/"
    },
    "id": "s0emC2bVxqjl",
    "outputId": "4a40a951-b52d-47e8-fe43-9359eac2b2f4"
   },
   "outputs": [
    {
     "data": {
      "text/plain": [
       "0                      Ultimate Investment Banking Course\n",
       "1       Complete GST Course  Certification  Grow Practice\n",
       "2        Financial Modeling Business Analysts Consultants\n",
       "3             Beginner Pro  Financial Analysis Excel 2017\n",
       "4                        Maximize Profits Trading Options\n",
       "                              ...                        \n",
       "3673      Learn jQuery Scratch  Master JavaScript library\n",
       "3674                      Design WordPress Website Coding\n",
       "3675                                  Learn Build Polymer\n",
       "3676        CSS Animations Create Amazing Effects Website\n",
       "3677              MODX CMS Build Websites Beginners Guide\n",
       "Name: course_title, Length: 3672, dtype: object"
      ]
     },
     "execution_count": 17,
     "metadata": {},
     "output_type": "execute_result"
    }
   ],
   "source": [
    "df.course_title = df.course_title.apply(nfx.remove_stopwords)\n",
    "df.course_title = df.course_title.apply(nfx.remove_special_characters)\n",
    "df.course_title"
   ]
  },
  {
   "cell_type": "code",
   "execution_count": 18,
   "metadata": {
    "colab": {
     "base_uri": "https://localhost:8080/",
     "height": 521
    },
    "id": "p1AeJA-z4ARN",
    "outputId": "78141ea8-83a8-461a-ef0a-6fe7f5bbe114"
   },
   "outputs": [
    {
     "data": {
      "text/html": [
       "<div>\n",
       "<style scoped>\n",
       "    .dataframe tbody tr th:only-of-type {\n",
       "        vertical-align: middle;\n",
       "    }\n",
       "\n",
       "    .dataframe tbody tr th {\n",
       "        vertical-align: top;\n",
       "    }\n",
       "\n",
       "    .dataframe thead th {\n",
       "        text-align: right;\n",
       "    }\n",
       "</style>\n",
       "<table border=\"1\" class=\"dataframe\">\n",
       "  <thead>\n",
       "    <tr style=\"text-align: right;\">\n",
       "      <th></th>\n",
       "      <th>course_id</th>\n",
       "      <th>course_title</th>\n",
       "      <th>url</th>\n",
       "      <th>is_paid</th>\n",
       "      <th>price</th>\n",
       "      <th>num_subscribers</th>\n",
       "      <th>num_reviews</th>\n",
       "      <th>num_lectures</th>\n",
       "      <th>level</th>\n",
       "      <th>content_duration</th>\n",
       "      <th>published_timestamp</th>\n",
       "      <th>subject</th>\n",
       "      <th>pop_score</th>\n",
       "      <th>title_subject</th>\n",
       "    </tr>\n",
       "  </thead>\n",
       "  <tbody>\n",
       "    <tr>\n",
       "      <th>0</th>\n",
       "      <td>1070968</td>\n",
       "      <td>Ultimate Investment Banking Course</td>\n",
       "      <td>https://www.udemy.com/ultimate-investment-bank...</td>\n",
       "      <td>True</td>\n",
       "      <td>200</td>\n",
       "      <td>2147</td>\n",
       "      <td>23</td>\n",
       "      <td>51</td>\n",
       "      <td>All Levels</td>\n",
       "      <td>1.5</td>\n",
       "      <td>2017-01-18T20:58:58Z</td>\n",
       "      <td>Business Finance</td>\n",
       "      <td>1297.4</td>\n",
       "      <td>Ultimate Investment Banking Course Business Fi...</td>\n",
       "    </tr>\n",
       "    <tr>\n",
       "      <th>1</th>\n",
       "      <td>1113822</td>\n",
       "      <td>Complete GST Course  Certification  Grow Practice</td>\n",
       "      <td>https://www.udemy.com/goods-and-services-tax/</td>\n",
       "      <td>True</td>\n",
       "      <td>75</td>\n",
       "      <td>2792</td>\n",
       "      <td>923</td>\n",
       "      <td>274</td>\n",
       "      <td>All Levels</td>\n",
       "      <td>39.0</td>\n",
       "      <td>2017-03-09T16:34:20Z</td>\n",
       "      <td>Business Finance</td>\n",
       "      <td>2044.4</td>\n",
       "      <td>Complete GST Course  Certification  Grow Pract...</td>\n",
       "    </tr>\n",
       "    <tr>\n",
       "      <th>2</th>\n",
       "      <td>1006314</td>\n",
       "      <td>Financial Modeling Business Analysts Consultants</td>\n",
       "      <td>https://www.udemy.com/financial-modeling-for-b...</td>\n",
       "      <td>True</td>\n",
       "      <td>45</td>\n",
       "      <td>2174</td>\n",
       "      <td>74</td>\n",
       "      <td>51</td>\n",
       "      <td>Intermediate Level</td>\n",
       "      <td>2.5</td>\n",
       "      <td>2016-12-19T19:26:30Z</td>\n",
       "      <td>Business Finance</td>\n",
       "      <td>1334.0</td>\n",
       "      <td>Financial Modeling Business Analysts Consultan...</td>\n",
       "    </tr>\n",
       "    <tr>\n",
       "      <th>3</th>\n",
       "      <td>1210588</td>\n",
       "      <td>Beginner Pro  Financial Analysis Excel 2017</td>\n",
       "      <td>https://www.udemy.com/complete-excel-finance-c...</td>\n",
       "      <td>True</td>\n",
       "      <td>95</td>\n",
       "      <td>2451</td>\n",
       "      <td>11</td>\n",
       "      <td>36</td>\n",
       "      <td>All Levels</td>\n",
       "      <td>3.0</td>\n",
       "      <td>2017-05-30T20:07:24Z</td>\n",
       "      <td>Business Finance</td>\n",
       "      <td>1475.0</td>\n",
       "      <td>Beginner Pro  Financial Analysis Excel 2017 Bu...</td>\n",
       "    </tr>\n",
       "    <tr>\n",
       "      <th>4</th>\n",
       "      <td>1011058</td>\n",
       "      <td>Maximize Profits Trading Options</td>\n",
       "      <td>https://www.udemy.com/how-to-maximize-your-pro...</td>\n",
       "      <td>True</td>\n",
       "      <td>200</td>\n",
       "      <td>1276</td>\n",
       "      <td>45</td>\n",
       "      <td>26</td>\n",
       "      <td>Intermediate Level</td>\n",
       "      <td>2.0</td>\n",
       "      <td>2016-12-13T14:57:18Z</td>\n",
       "      <td>Business Finance</td>\n",
       "      <td>783.6</td>\n",
       "      <td>Maximize Profits Trading Options Business Finance</td>\n",
       "    </tr>\n",
       "  </tbody>\n",
       "</table>\n",
       "</div>"
      ],
      "text/plain": [
       "   course_id                                       course_title  \\\n",
       "0    1070968                 Ultimate Investment Banking Course   \n",
       "1    1113822  Complete GST Course  Certification  Grow Practice   \n",
       "2    1006314   Financial Modeling Business Analysts Consultants   \n",
       "3    1210588        Beginner Pro  Financial Analysis Excel 2017   \n",
       "4    1011058                   Maximize Profits Trading Options   \n",
       "\n",
       "                                                 url  is_paid  price  \\\n",
       "0  https://www.udemy.com/ultimate-investment-bank...     True    200   \n",
       "1      https://www.udemy.com/goods-and-services-tax/     True     75   \n",
       "2  https://www.udemy.com/financial-modeling-for-b...     True     45   \n",
       "3  https://www.udemy.com/complete-excel-finance-c...     True     95   \n",
       "4  https://www.udemy.com/how-to-maximize-your-pro...     True    200   \n",
       "\n",
       "   num_subscribers  num_reviews  num_lectures               level  \\\n",
       "0             2147           23            51          All Levels   \n",
       "1             2792          923           274          All Levels   \n",
       "2             2174           74            51  Intermediate Level   \n",
       "3             2451           11            36          All Levels   \n",
       "4             1276           45            26  Intermediate Level   \n",
       "\n",
       "   content_duration   published_timestamp           subject  pop_score  \\\n",
       "0               1.5  2017-01-18T20:58:58Z  Business Finance     1297.4   \n",
       "1              39.0  2017-03-09T16:34:20Z  Business Finance     2044.4   \n",
       "2               2.5  2016-12-19T19:26:30Z  Business Finance     1334.0   \n",
       "3               3.0  2017-05-30T20:07:24Z  Business Finance     1475.0   \n",
       "4               2.0  2016-12-13T14:57:18Z  Business Finance      783.6   \n",
       "\n",
       "                                       title_subject  \n",
       "0  Ultimate Investment Banking Course Business Fi...  \n",
       "1  Complete GST Course  Certification  Grow Pract...  \n",
       "2  Financial Modeling Business Analysts Consultan...  \n",
       "3  Beginner Pro  Financial Analysis Excel 2017 Bu...  \n",
       "4  Maximize Profits Trading Options Business Finance  "
      ]
     },
     "execution_count": 18,
     "metadata": {},
     "output_type": "execute_result"
    }
   ],
   "source": [
    "df[\"title_subject\"] = df[\"course_title\"] + \" \" + df[\"subject\"]\n",
    "# recommending course not just based on the course title but also on the subject\n",
    "df.head()"
   ]
  },
  {
   "cell_type": "code",
   "execution_count": 19,
   "metadata": {
    "id": "l9YwAO6IFxcV"
   },
   "outputs": [],
   "source": [
    "# converting these texts into vectors using count vectorizer(converts texts into numerical format)\n",
    "from sklearn.feature_extraction.text import CountVectorizer"
   ]
  },
  {
   "cell_type": "code",
   "execution_count": 20,
   "metadata": {
    "colab": {
     "base_uri": "https://localhost:8080/"
    },
    "id": "XsSWpIxcFxma",
    "outputId": "47c81dc6-111b-4bff-8601-c5e6d7c8117d"
   },
   "outputs": [
    {
     "data": {
      "text/plain": [
       "array([[0, 0, 0, ..., 0, 0, 0],\n",
       "       [0, 0, 0, ..., 0, 0, 0],\n",
       "       [0, 0, 0, ..., 0, 0, 0],\n",
       "       ...,\n",
       "       [0, 0, 0, ..., 0, 0, 0],\n",
       "       [0, 0, 0, ..., 0, 0, 0],\n",
       "       [0, 0, 0, ..., 0, 0, 0]], dtype=int64)"
      ]
     },
     "execution_count": 20,
     "metadata": {},
     "output_type": "execute_result"
    }
   ],
   "source": [
    "cv = CountVectorizer(max_features=3000)   # (forms matrix)\n",
    "# cv will only include top 3000 most frequent words from the corpus(collection of all course titles)\n",
    "vectors = cv.fit_transform(df.title_subject).toarray()\n",
    "vectors"
   ]
  },
  {
   "cell_type": "code",
   "execution_count": 21,
   "metadata": {
    "colab": {
     "base_uri": "https://localhost:8080/"
    },
    "id": "ZOFoPWnRKmkL",
    "outputId": "09c91e56-b1f2-456b-899b-2c4663430c4b"
   },
   "outputs": [
    {
     "data": {
      "text/plain": [
       "(3672, 3000)"
      ]
     },
     "execution_count": 21,
     "metadata": {},
     "output_type": "execute_result"
    }
   ],
   "source": [
    "vectors.shape"
   ]
  },
  {
   "cell_type": "code",
   "execution_count": 22,
   "metadata": {
    "colab": {
     "base_uri": "https://localhost:8080/"
    },
    "id": "TKQrhSxjFQZM",
    "outputId": "22bf1906-46d8-4d20-dd87-a33243dffd1d"
   },
   "outputs": [
    {
     "data": {
      "text/plain": [
       "3000"
      ]
     },
     "execution_count": 22,
     "metadata": {},
     "output_type": "execute_result"
    }
   ],
   "source": [
    "len(cv.get_feature_names_out()) # gives all the 3000 most frequent words"
   ]
  },
  {
   "cell_type": "code",
   "execution_count": 23,
   "metadata": {
    "id": "LEkIV8rcJsOo"
   },
   "outputs": [],
   "source": [
    "# the similarities between the vectors is utilized in building the reccomendation system\n",
    "# Cosine Similarity - metric used to measure the similarity between two vectors in a multi-dimensional space\n",
    "# by calculating the cosine of the angles between the two vectors\n",
    "# -1 ot 1\n",
    "\n",
    "# CS(A, B) = (A.B)/(||A||*||B||)"
   ]
  },
  {
   "cell_type": "code",
   "execution_count": 24,
   "metadata": {
    "id": "rof_xIdmFQfK"
   },
   "outputs": [],
   "source": [
    "# recommending courses which has high cosine similarity"
   ]
  },
  {
   "cell_type": "code",
   "execution_count": 25,
   "metadata": {
    "id": "AuWXuNiOLvzS"
   },
   "outputs": [],
   "source": [
    "from sklearn.metrics.pairwise import cosine_similarity"
   ]
  },
  {
   "cell_type": "code",
   "execution_count": 26,
   "metadata": {
    "colab": {
     "base_uri": "https://localhost:8080/"
    },
    "id": "nnwUiLwvFQsI",
    "outputId": "7d7c44fe-3899-489a-9d4b-fd03f0edec1b"
   },
   "outputs": [
    {
     "data": {
      "text/plain": [
       "array([[1.        , 0.4330127 , 0.40824829, ..., 0.        , 0.        ,\n",
       "        0.        ],\n",
       "       [0.4330127 , 1.        , 0.35355339, ..., 0.        , 0.        ,\n",
       "        0.        ],\n",
       "       [0.40824829, 0.35355339, 1.        , ..., 0.        , 0.        ,\n",
       "        0.        ],\n",
       "       ...,\n",
       "       [0.        , 0.        , 0.        , ..., 1.        , 0.31622777,\n",
       "        0.50709255],\n",
       "       [0.        , 0.        , 0.        , ..., 0.31622777, 1.        ,\n",
       "        0.26726124],\n",
       "       [0.        , 0.        , 0.        , ..., 0.50709255, 0.26726124,\n",
       "        1.        ]])"
      ]
     },
     "execution_count": 26,
     "metadata": {},
     "output_type": "execute_result"
    }
   ],
   "source": [
    "similarity = cosine_similarity(vectors)\n",
    "similarity"
   ]
  },
  {
   "cell_type": "code",
   "execution_count": 27,
   "metadata": {
    "colab": {
     "base_uri": "https://localhost:8080/"
    },
    "id": "v8f4_OReMAr0",
    "outputId": "8db84100-04ad-459f-b156-d77fc807e87d"
   },
   "outputs": [
    {
     "data": {
      "text/plain": [
       "(3672, 3672)"
      ]
     },
     "execution_count": 27,
     "metadata": {},
     "output_type": "execute_result"
    }
   ],
   "source": [
    "similarity.shape # similarity with each other"
   ]
  },
  {
   "cell_type": "code",
   "execution_count": 28,
   "metadata": {
    "colab": {
     "base_uri": "https://localhost:8080/"
    },
    "id": "M-fgT5B7MAv4",
    "outputId": "4070d547-822b-4915-c19e-0834904884e3"
   },
   "outputs": [
    {
     "data": {
      "text/plain": [
       "array([1.        , 0.4330127 , 0.40824829, ..., 0.        , 0.        ,\n",
       "       0.        ])"
      ]
     },
     "execution_count": 28,
     "metadata": {},
     "output_type": "execute_result"
    }
   ],
   "source": [
    "similarity[0]"
   ]
  },
  {
   "cell_type": "code",
   "execution_count": 29,
   "metadata": {
    "colab": {
     "base_uri": "https://localhost:8080/"
    },
    "id": "EwTVQ_S8MZpd",
    "outputId": "6bd685ee-5a1c-436a-b1a4-6f39e3144da1"
   },
   "outputs": [
    {
     "data": {
      "text/plain": [
       "[1.0000000000000002,\n",
       " 0.7715167498104596,\n",
       " 0.6666666666666669,\n",
       " 0.6666666666666669,\n",
       " 0.6172133998483676,\n",
       " 0.6172133998483676,\n",
       " 0.6172133998483676,\n",
       " 0.5773502691896258,\n",
       " 0.5773502691896258,\n",
       " 0.5773502691896258]"
      ]
     },
     "execution_count": 29,
     "metadata": {},
     "output_type": "execute_result"
    }
   ],
   "source": [
    "sorted(similarity[0], reverse=True)[:10]\n",
    "# to identify top similarity words"
   ]
  },
  {
   "cell_type": "code",
   "execution_count": 30,
   "metadata": {
    "colab": {
     "base_uri": "https://localhost:8080/"
    },
    "id": "vp4tKAkVy6lB",
    "outputId": "f31991e1-b430-4f04-eea7-2829d6ec5f61"
   },
   "outputs": [
    {
     "data": {
      "text/plain": [
       "[(0, 1.0000000000000002),\n",
       " (39, 0.7715167498104596),\n",
       " (240, 0.6666666666666669),\n",
       " (417, 0.6666666666666669),\n",
       " (418, 0.6172133998483676),\n",
       " (657, 0.6172133998483676),\n",
       " (1066, 0.6172133998483676),\n",
       " (227, 0.5773502691896258),\n",
       " (279, 0.5773502691896258),\n",
       " (280, 0.5773502691896258)]"
      ]
     },
     "execution_count": 30,
     "metadata": {},
     "output_type": "execute_result"
    }
   ],
   "source": [
    "# but then the index of the words is lost. To get the index as well, we use enumerate\n",
    "sim1 = sorted(enumerate(similarity[0]), reverse=True, key=lambda x : x[1]) # key specified to sort on the basis of cosine similarity and not its index\n",
    "sim1[:10]"
   ]
  },
  {
   "cell_type": "code",
   "execution_count": 31,
   "metadata": {
    "colab": {
     "base_uri": "https://localhost:8080/"
    },
    "id": "e-0TwzVVy6tB",
    "outputId": "51ff4299-f975-4946-f78d-e11738cf9462"
   },
   "outputs": [
    {
     "data": {
      "text/plain": [
       "[(0, 1.0000000000000002),\n",
       " (39, 0.7715167498104596),\n",
       " (240, 0.6666666666666669),\n",
       " (417, 0.6666666666666669),\n",
       " (418, 0.6172133998483676),\n",
       " (657, 0.6172133998483676)]"
      ]
     },
     "execution_count": 31,
     "metadata": {},
     "output_type": "execute_result"
    }
   ],
   "source": [
    "sim1[:6]\n",
    "# instead of the index, we want course title"
   ]
  },
  {
   "cell_type": "code",
   "execution_count": 32,
   "metadata": {
    "colab": {
     "base_uri": "https://localhost:8080/",
     "height": 81
    },
    "id": "8ibAuB0TMZsj",
    "outputId": "4edac4d1-987d-4c7d-e771-72fadff17fa1"
   },
   "outputs": [
    {
     "data": {
      "text/html": [
       "<div>\n",
       "<style scoped>\n",
       "    .dataframe tbody tr th:only-of-type {\n",
       "        vertical-align: middle;\n",
       "    }\n",
       "\n",
       "    .dataframe tbody tr th {\n",
       "        vertical-align: top;\n",
       "    }\n",
       "\n",
       "    .dataframe thead th {\n",
       "        text-align: right;\n",
       "    }\n",
       "</style>\n",
       "<table border=\"1\" class=\"dataframe\">\n",
       "  <thead>\n",
       "    <tr style=\"text-align: right;\">\n",
       "      <th></th>\n",
       "      <th>title_subject</th>\n",
       "    </tr>\n",
       "  </thead>\n",
       "  <tbody>\n",
       "    <tr>\n",
       "      <th>39</th>\n",
       "      <td>Complete Investment Banking Course 2017 Busine...</td>\n",
       "    </tr>\n",
       "  </tbody>\n",
       "</table>\n",
       "</div>"
      ],
      "text/plain": [
       "                                        title_subject\n",
       "39  Complete Investment Banking Course 2017 Busine..."
      ]
     },
     "execution_count": 32,
     "metadata": {},
     "output_type": "execute_result"
    }
   ],
   "source": [
    "df.loc[df.index==39, [\"title_subject\"]]"
   ]
  },
  {
   "cell_type": "code",
   "execution_count": 33,
   "metadata": {
    "colab": {
     "base_uri": "https://localhost:8080/",
     "height": 35
    },
    "id": "NSJuTABbMA2R",
    "outputId": "9c37d727-210e-422f-bbf0-a8ed82eb5b84"
   },
   "outputs": [
    {
     "data": {
      "text/plain": [
       "'Complete Investment Banking Course 2017 Business Finance'"
      ]
     },
     "execution_count": 33,
     "metadata": {},
     "output_type": "execute_result"
    }
   ],
   "source": [
    "df.iloc[39][\"title_subject\"]"
   ]
  },
  {
   "cell_type": "code",
   "execution_count": 34,
   "metadata": {
    "colab": {
     "base_uri": "https://localhost:8080/",
     "height": 35
    },
    "id": "cZWkjA3P5CrA",
    "outputId": "1a9c047b-1de1-4493-cf26-1c740bc391e7"
   },
   "outputs": [
    {
     "data": {
      "text/plain": [
       "'Complete Investment Banking Course 2017'"
      ]
     },
     "execution_count": 34,
     "metadata": {},
     "output_type": "execute_result"
    }
   ],
   "source": [
    "df.iloc[39][\"course_title\"]"
   ]
  },
  {
   "cell_type": "code",
   "execution_count": 35,
   "metadata": {
    "id": "2CAPU_cX1HfQ"
   },
   "outputs": [],
   "source": [
    "def content_recomm(course):\n",
    "  course_idx = df.loc[df.course_title == course].index[0]\n",
    "  sim = similarity[course_idx]\n",
    "  course_recomm = sorted(enumerate(sim), reverse=True, key=lambda x : x[1])[:5]  # top 5 recommendations\n",
    "  for i in course_recomm:\n",
    "    print(df.iloc[i[0]][\"course_title\"])"
   ]
  },
  {
   "cell_type": "code",
   "execution_count": 36,
   "metadata": {
    "colab": {
     "base_uri": "https://localhost:8080/"
    },
    "id": "lrr1MTSs2xwq",
    "outputId": "b98037b8-010b-4989-dafe-e8243dfece13"
   },
   "outputs": [
    {
     "data": {
      "text/plain": [
       "1669    Corel Draw X7 Eitimi Temelden leri Seviyeye\n",
       "Name: course_title, dtype: object"
      ]
     },
     "execution_count": 36,
     "metadata": {},
     "output_type": "execute_result"
    }
   ],
   "source": [
    "df.sample(1)[\"course_title\"]"
   ]
  },
  {
   "cell_type": "code",
   "execution_count": 37,
   "metadata": {
    "colab": {
     "base_uri": "https://localhost:8080/"
    },
    "id": "KoCVx7DE1LmW",
    "outputId": "24f05090-ec83-489e-8284-efcaa7682e91"
   },
   "outputs": [
    {
     "name": "stdout",
     "output_type": "stream",
     "text": [
      "Surface Pattern Design  Create Scandinavian Patterns\n",
      "Illustrative Surface Patterns Design  Life Products\n",
      "Gestalt Principles  Pattern Design  Create Festive Pattern\n",
      "\n",
      "\n"
     ]
    }
   ],
   "source": [
    "content_recomm(\"Graphic Design Secrets Revealed\")\n",
    "# top 5 courses recommended based on the given course"
   ]
  },
  {
   "cell_type": "code",
   "execution_count": 38,
   "metadata": {
    "colab": {
     "base_uri": "https://localhost:8080/"
    },
    "id": "BRgg1-lu1LsZ",
    "outputId": "b1c212ff-1928-4ee3-cf92-fddb957eea9a"
   },
   "outputs": [
    {
     "name": "stdout",
     "output_type": "stream",
     "text": [
      "Complete Investment Banking Course 2017\n",
      "Ultimate Investment Banking Course\n",
      "Complete Financial Analyst Course 2017\n",
      "Cryptocurrency BTC  ETH Investment  Trading Course 2017\n",
      "2017\n"
     ]
    }
   ],
   "source": [
    "content_recomm(\"Complete Investment Banking Course 2017\")"
   ]
  },
  {
   "cell_type": "code",
   "execution_count": 39,
   "metadata": {
    "colab": {
     "base_uri": "https://localhost:8080/"
    },
    "id": "YV10paS91Lu_",
    "outputId": "51e52763-b56f-4ab5-b490-dafa4043167e"
   },
   "outputs": [
    {
     "name": "stdout",
     "output_type": "stream",
     "text": [
      "Ultimate Investment Banking Course\n",
      "Complete Investment Banking Course 2017\n",
      "Advanced Accounting Investment Banking\n",
      "Investment Banking Recruitment Series\n",
      "Business Banking 101\n"
     ]
    }
   ],
   "source": [
    "content_recomm(\"Ultimate Investment Banking Course\")"
   ]
  },
  {
   "cell_type": "code",
   "execution_count": 40,
   "metadata": {
    "id": "RlbwN3Y55AWD"
   },
   "outputs": [],
   "source": [
    "# here course recommendation is done not just on the basis of course_title but also on the  basis of subject - hence provides better recommendation"
   ]
  },
  {
   "cell_type": "code",
   "execution_count": 41,
   "metadata": {
    "id": "-oIxTOuT5ap8"
   },
   "outputs": [],
   "source": [
    "import pickle\n",
    "# used for serializing and deserializing objects\n",
    "# convert complex Python objects, such as DataFrames, into a byte stream that can be saved to a file."
   ]
  },
  {
   "cell_type": "code",
   "execution_count": 42,
   "metadata": {
    "id": "3Iw244HF5ate"
   },
   "outputs": [],
   "source": [
    "pickle.dump(df, open(\"course_dict.pkl\", \"wb\"))\n",
    "# This is a function in the pickle module used to serialize an object (in this case, the DataFrame) and save it to a file."
   ]
  },
  {
   "cell_type": "code",
   "execution_count": 43,
   "metadata": {
    "id": "z4ui2yRs_mHr"
   },
   "outputs": [],
   "source": [
    "pickle.dump(similarity, open(\"similarity.pkl\", \"wb\"))"
   ]
  },
  {
   "cell_type": "code",
   "execution_count": 44,
   "metadata": {
    "colab": {
     "base_uri": "https://localhost:8080/",
     "height": 366
    },
    "id": "KpmjJYRS_td9",
    "outputId": "9d9648a2-1ad5-45dc-c53f-58ffab2b00fd"
   },
   "outputs": [],
   "source": [
    "import tkinter as tk\n",
    "from tkinter import ttk, messagebox\n",
    "# the tkinter module in Python is a standard GUI (Graphical User Interface) toolkit\n",
    "# to define and create a GUI window, add widgets (such as buttons, labels, etc.), and set up event handlers.\n",
    "\n",
    "def popularity_based_recommendation(df, top_n=5):\n",
    "    df[\"popularity_score\"] = 0.6*df[\"num_subscribers\"] + 0.4*df[\"num_reviews\"]\n",
    "    df_sorted = df.sort_values(by=\"popularity_score\", ascending=False)\n",
    "    recommended_courses = df_sorted[['course_title', 'popularity_score']].head(top_n)\n",
    "    return recommended_courses\n",
    "\n",
    "# define recommend function\n",
    "def recommend(course):\n",
    "    try:\n",
    "        course_idx = df.loc[df.course_title == course].index[0]\n",
    "        sim = similarity[course_idx]\n",
    "        courses_list = sorted(enumerate(sim), reverse=True, key=lambda x : x[1])[:5]  \n",
    "        recommended_courses = [df.iloc[i[0]][\"course_title\"] for i in courses_list]  # top 5 recommendations\n",
    "        return recommended_courses\n",
    "    except IndexError:\n",
    "        messagebox.showerror(\"Error\", f\"Course {course} not found.\")\n",
    "\n",
    "# Event handler for the \"Recommend\" button\n",
    "def recommend_btn_click():\n",
    "    course_title = course_var.get()\n",
    "    recommended_courses = recommend(course_title)\n",
    "    if recommended_courses:\n",
    "        popularity_label.pack_forget()\n",
    "        result_label.config(text=\"Recommended Courses:\\n\\n\"+\"\\n\".join(recommended_courses))\n",
    "\n",
    "\n",
    "# create the main application window\n",
    "root = tk.Tk()\n",
    "root.title(\"Course Recommender\")\n",
    "root.geometry(\"400x300\")\n",
    "\n",
    "# change the font and the color\n",
    "font_style = (\"Arial\", 12)\n",
    "label_color = \"blue\"\n",
    "heading_color=\"red\"\n",
    "button_color = \"green\"\n",
    "result_label_color = \"black\"\n",
    "\n",
    "# Create and place GUI elements\n",
    "label = tk.Label(root, text=\"Select Course:\", font=font_style, fg=label_color)\n",
    "label.pack(pady=10)\n",
    "\n",
    "course_titles = df['course_title'].tolist()\n",
    "course_var = tk.StringVar(value=course_titles[0])\n",
    "course_dropdown = ttk.Combobox(root, textvariable=course_var, values=course_titles, width=40, font=font_style)\n",
    "course_dropdown.pack(pady=5)\n",
    "\n",
    "popularity_recommendations = popularity_based_recommendation(df, top_n=5)\n",
    "popularity_label = tk.Label(root, text=\"Popularity-based Recommendations:\\n\\n\" + popularity_recommendations.to_string(index=False),\n",
    "                             font=font_style, fg=label_color)\n",
    "popularity_label.pack()\n",
    "\n",
    "recommend_button = tk.Button(root, text=\"Recommend\", command=recommend_btn_click, width=20, font=font_style, fg=button_color)\n",
    "recommend_button.pack(pady=10)\n",
    "\n",
    "result_label = tk.Label(root, text=\"\", wraplength=350, font=font_style, fg=result_label_color)\n",
    "result_label.pack()\n",
    "\n",
    "root.mainloop()"
   ]
  },
  {
   "cell_type": "code",
   "execution_count": null,
   "metadata": {},
   "outputs": [],
   "source": []
  },
  {
   "cell_type": "code",
   "execution_count": null,
   "metadata": {},
   "outputs": [],
   "source": []
  },
  {
   "cell_type": "code",
   "execution_count": null,
   "metadata": {},
   "outputs": [],
   "source": []
  }
 ],
 "metadata": {
  "colab": {
   "provenance": []
  },
  "kernelspec": {
   "display_name": "Python 3 (ipykernel)",
   "language": "python",
   "name": "python3"
  },
  "language_info": {
   "codemirror_mode": {
    "name": "ipython",
    "version": 3
   },
   "file_extension": ".py",
   "mimetype": "text/x-python",
   "name": "python",
   "nbconvert_exporter": "python",
   "pygments_lexer": "ipython3",
   "version": "3.11.4"
  }
 },
 "nbformat": 4,
 "nbformat_minor": 1
}
